{
 "cells": [
  {
   "cell_type": "code",
   "execution_count": 38,
   "metadata": {},
   "outputs": [],
   "source": [
    "import pandas as pd\n",
    "import json\n",
    "import matplotlib.pyplot as plt\n",
    "import seaborn as sns"
   ]
  },
  {
   "cell_type": "code",
   "execution_count": 39,
   "metadata": {},
   "outputs": [],
   "source": [
    "def load_json_df(filename, num_bytes = -1):\n",
    "    '''Load the first `num_bytes` of the filename as a json blob, convert each line into a row in a Pandas data frame.'''\n",
    "    #注意 encoding='utf-8'\n",
    "    fs = open(filename,encoding='utf-8')\n",
    "    df = pd.DataFrame([json.loads(x) for x in fs.readlines(num_bytes)])\n",
    "    fs.close()\n",
    "    return df"
   ]
  },
  {
   "cell_type": "markdown",
   "metadata": {},
   "source": [
    "Yelp 点评数据集（第 6 轮）的统计信息\n",
    "• 782 个商业分类。\n",
    "• 整个数据集包含 1 569 264（≈ 160 万）条点评和 61 184 个商家。\n",
    "• 就点评数量而言，“Restaurants”（990 627 条点评）和“Nightlife”（210 028 条点评）\n",
    "是最普遍的分类。\n",
    "• 没有商家既属于餐馆又属于夜生活场所，所以这两个点评分组中没有重叠\n",
    "\n",
    "原始的点评数量横跨了若干个数量级，这对很多模型来说都是个问题。在线性模型中，\n",
    "同一线性系数应该对所有可能的计数值起作用。过大的计数值对无监督学习方法也会造\n",
    "成破坏，比如 k-均值聚类，它使用欧氏距离作为相似度函数来测量数据点之间的相似度"
   ]
  },
  {
   "cell_type": "code",
   "execution_count": 40,
   "metadata": {},
   "outputs": [],
   "source": [
    "# 加载商家数据\n",
    "biz_df = load_json_df('data/yelp/v6/yelp_dataset_challenge_academic_dataset/yelp_academic_dataset_business.json')\n",
    "biz_df"
   ]
  },
  {
   "cell_type": "code",
   "execution_count": 48,
   "metadata": {},
   "outputs": [
    {
     "data": {
      "text/plain": [
       "Text(0, 0.5, 'Occurence')"
      ]
     },
     "execution_count": 48,
     "metadata": {},
     "output_type": "execute_result"
    },
    {
     "data": {
      "image/png": "[encoded data removed]",
      "text/plain": [
       "<Figure size 432x288 with 1 Axes>"
      ]
     },
     "metadata": {},
     "output_type": "display_data"
    }
   ],
   "source": [
    "#绘制点评数量直方图\n",
    "sns.set_style('whitegrid')\n",
    "fig,ax=plt.subplots()\n",
    "biz_df['review_count'].hist(ax=ax,bins=100)\n",
    "ax.set_yscale('log')\n",
    "ax.tick_params(labelsize=14)\n",
    "ax.set_xlabel('Review Count',fontsize=14)\n",
    "ax.set_ylabel('Occurence',fontsize=14)"
   ]
  },
  {
   "cell_type": "code",
   "execution_count": 54,
   "metadata": {},
   "outputs": [
    {
     "data": {
      "image/png": "[encoded data removed]",
      "text/plain": [
       "<Figure size 432x288 with 1 Axes>"
      ]
     },
     "metadata": {},
     "output_type": "display_data"
    }
   ],
   "source": [
    "# 在直方图上画出十分位数\n",
    "sns.set_style('whitegrid')\n",
    "fig, ax = plt.subplots()\n",
    "biz_df['review_count'].hist(ax=ax, bins=100)\n",
    "for pos in deciles:\n",
    "    handle = plt.axvline(pos, color='r')\n",
    "    ax.legend([handle], ['deciles'], fontsize=14)\n",
    "    ax.set_yscale('log')\n",
    "    ax.set_xscale('log')\n",
    "    ax.tick_params(labelsize=14)\n",
    "    ax.set_xlabel('Review Count', fontsize=14)\n",
    "    ax.set_ylabel('Occurrence', fontsize=14)"
   ]
  },
  {
   "cell_type": "code",
   "execution_count": 35,
   "metadata": {},
   "outputs": [],
   "source": [
    "user_df = load_json_df('data/yelp/v6/yelp_dataset_challenge_academic_dataset/yelp_academic_dataset_user.json')"
   ]
  },
  {
   "cell_type": "code",
   "execution_count": 36,
   "metadata": {},
   "outputs": [
    {
     "data": {
      "text/html": [
       "<div>\n",
       "<style scoped>\n",
       "    .dataframe tbody tr th:only-of-type {\n",
       "        vertical-align: middle;\n",
       "    }\n",
       "\n",
       "    .dataframe tbody tr th {\n",
       "        vertical-align: top;\n",
       "    }\n",
       "\n",
       "    .dataframe thead th {\n",
       "        text-align: right;\n",
       "    }\n",
       "</style>\n",
       "<table border=\"1\" class=\"dataframe\">\n",
       "  <thead>\n",
       "    <tr style=\"text-align: right;\">\n",
       "      <th></th>\n",
       "      <th>review_id</th>\n",
       "      <th>user_id</th>\n",
       "      <th>business_id</th>\n",
       "      <th>stars</th>\n",
       "      <th>useful</th>\n",
       "      <th>funny</th>\n",
       "      <th>cool</th>\n",
       "      <th>text</th>\n",
       "      <th>date</th>\n",
       "    </tr>\n",
       "  </thead>\n",
       "  <tbody>\n",
       "    <tr>\n",
       "      <th>0</th>\n",
       "      <td>Q1sbwvVQXV2734tPgoKj4Q</td>\n",
       "      <td>hG7b0MtEbXx5QzbzE6C_VA</td>\n",
       "      <td>ujmEBvifdJM6h6RLv4wQIg</td>\n",
       "      <td>1.0</td>\n",
       "      <td>6</td>\n",
       "      <td>1</td>\n",
       "      <td>0</td>\n",
       "      <td>Total bill for this horrible service? Over $8G...</td>\n",
       "      <td>2013-05-07 04:34:36</td>\n",
       "    </tr>\n",
       "    <tr>\n",
       "      <th>1</th>\n",
       "      <td>GJXCdrto3ASJOqKeVWPi6Q</td>\n",
       "      <td>yXQM5uF2jS6es16SJzNHfg</td>\n",
       "      <td>NZnhc2sEQy3RmzKTZnqtwQ</td>\n",
       "      <td>5.0</td>\n",
       "      <td>0</td>\n",
       "      <td>0</td>\n",
       "      <td>0</td>\n",
       "      <td>I *adore* Travis at the Hard Rock's new Kelly ...</td>\n",
       "      <td>2017-01-14 21:30:33</td>\n",
       "    </tr>\n",
       "    <tr>\n",
       "      <th>2</th>\n",
       "      <td>2TzJjDVDEuAW6MR5Vuc1ug</td>\n",
       "      <td>n6-Gk65cPZL6Uz8qRm3NYw</td>\n",
       "      <td>WTqjgwHlXbSFevF32_DJVw</td>\n",
       "      <td>5.0</td>\n",
       "      <td>3</td>\n",
       "      <td>0</td>\n",
       "      <td>0</td>\n",
       "      <td>I have to say that this office really has it t...</td>\n",
       "      <td>2016-11-09 20:09:03</td>\n",
       "    </tr>\n",
       "    <tr>\n",
       "      <th>3</th>\n",
       "      <td>yi0R0Ugj_xUx_Nek0-_Qig</td>\n",
       "      <td>dacAIZ6fTM6mqwW5uxkskg</td>\n",
       "      <td>ikCg8xy5JIg_NGPx-MSIDA</td>\n",
       "      <td>5.0</td>\n",
       "      <td>0</td>\n",
       "      <td>0</td>\n",
       "      <td>0</td>\n",
       "      <td>Went in for a lunch. Steak sandwich was delici...</td>\n",
       "      <td>2018-01-09 20:56:38</td>\n",
       "    </tr>\n",
       "    <tr>\n",
       "      <th>4</th>\n",
       "      <td>11a8sVPMUFtaC7_ABRkmtw</td>\n",
       "      <td>ssoyf2_x0EQMed6fgHeMyQ</td>\n",
       "      <td>b1b1eb3uo-w561D0ZfCEiQ</td>\n",
       "      <td>1.0</td>\n",
       "      <td>7</td>\n",
       "      <td>0</td>\n",
       "      <td>0</td>\n",
       "      <td>Today was my second out of three sessions I ha...</td>\n",
       "      <td>2018-01-30 23:07:38</td>\n",
       "    </tr>\n",
       "    <tr>\n",
       "      <th>...</th>\n",
       "      <td>...</td>\n",
       "      <td>...</td>\n",
       "      <td>...</td>\n",
       "      <td>...</td>\n",
       "      <td>...</td>\n",
       "      <td>...</td>\n",
       "      <td>...</td>\n",
       "      <td>...</td>\n",
       "      <td>...</td>\n",
       "    </tr>\n",
       "    <tr>\n",
       "      <th>11957</th>\n",
       "      <td>4TJFTyaY0yYhxFdAaZ5QNA</td>\n",
       "      <td>yWyEOsUhdo1fgici7u88Vw</td>\n",
       "      <td>kPfhSK0kcUmOTmC5DEjaDw</td>\n",
       "      <td>5.0</td>\n",
       "      <td>0</td>\n",
       "      <td>0</td>\n",
       "      <td>0</td>\n",
       "      <td>Saw this place on yelp with decent reviews.  I...</td>\n",
       "      <td>2018-08-05 01:30:06</td>\n",
       "    </tr>\n",
       "    <tr>\n",
       "      <th>11958</th>\n",
       "      <td>KROir8I3DBZ6SoMlbbBPFQ</td>\n",
       "      <td>BeT7T1xT_WfGINi4RV_J9w</td>\n",
       "      <td>fpuThAK8Qw28DRqcL8zQqQ</td>\n",
       "      <td>5.0</td>\n",
       "      <td>1</td>\n",
       "      <td>0</td>\n",
       "      <td>0</td>\n",
       "      <td>Alexis is a true professional.  She has a deep...</td>\n",
       "      <td>2014-10-11 19:39:56</td>\n",
       "    </tr>\n",
       "    <tr>\n",
       "      <th>11959</th>\n",
       "      <td>FVrOBnXUyMSf3Yk44p_7Uw</td>\n",
       "      <td>fRgpn-RIVOg694KBFWjxLg</td>\n",
       "      <td>c8M0snWaVUIw9ct_r9a7vw</td>\n",
       "      <td>1.0</td>\n",
       "      <td>4</td>\n",
       "      <td>0</td>\n",
       "      <td>0</td>\n",
       "      <td>My car was picked up from my home in Houston o...</td>\n",
       "      <td>2012-06-26 17:53:12</td>\n",
       "    </tr>\n",
       "    <tr>\n",
       "      <th>11960</th>\n",
       "      <td>zecH0ht0mtVirPJHDDdcJA</td>\n",
       "      <td>xRZ2DuebuqVYTmvdaFEzug</td>\n",
       "      <td>HhLVQg2DAmMll14mNDB4dg</td>\n",
       "      <td>4.0</td>\n",
       "      <td>1</td>\n",
       "      <td>0</td>\n",
       "      <td>0</td>\n",
       "      <td>While my first experience was great, this one ...</td>\n",
       "      <td>2017-04-08 01:00:39</td>\n",
       "    </tr>\n",
       "    <tr>\n",
       "      <th>11961</th>\n",
       "      <td>nRqVXsJpchoC7qD3kLnEbw</td>\n",
       "      <td>ZojoTvsjpxwf5DMMqFSZCg</td>\n",
       "      <td>GC9kPgUxDW49alvxL4CtvQ</td>\n",
       "      <td>5.0</td>\n",
       "      <td>0</td>\n",
       "      <td>0</td>\n",
       "      <td>0</td>\n",
       "      <td>Wonderful bakery with lovely desserts and smal...</td>\n",
       "      <td>2017-04-19 17:25:57</td>\n",
       "    </tr>\n",
       "  </tbody>\n",
       "</table>\n",
       "<p>11962 rows × 9 columns</p>\n",
       "</div>"
      ],
      "text/plain": [
       "                    review_id                 user_id             business_id  \\\n",
       "0      Q1sbwvVQXV2734tPgoKj4Q  hG7b0MtEbXx5QzbzE6C_VA  ujmEBvifdJM6h6RLv4wQIg   \n",
       "1      GJXCdrto3ASJOqKeVWPi6Q  yXQM5uF2jS6es16SJzNHfg  NZnhc2sEQy3RmzKTZnqtwQ   \n",
       "2      2TzJjDVDEuAW6MR5Vuc1ug  n6-Gk65cPZL6Uz8qRm3NYw  WTqjgwHlXbSFevF32_DJVw   \n",
       "3      yi0R0Ugj_xUx_Nek0-_Qig  dacAIZ6fTM6mqwW5uxkskg  ikCg8xy5JIg_NGPx-MSIDA   \n",
       "4      11a8sVPMUFtaC7_ABRkmtw  ssoyf2_x0EQMed6fgHeMyQ  b1b1eb3uo-w561D0ZfCEiQ   \n",
       "...                       ...                     ...                     ...   \n",
       "11957  4TJFTyaY0yYhxFdAaZ5QNA  yWyEOsUhdo1fgici7u88Vw  kPfhSK0kcUmOTmC5DEjaDw   \n",
       "11958  KROir8I3DBZ6SoMlbbBPFQ  BeT7T1xT_WfGINi4RV_J9w  fpuThAK8Qw28DRqcL8zQqQ   \n",
       "11959  FVrOBnXUyMSf3Yk44p_7Uw  fRgpn-RIVOg694KBFWjxLg  c8M0snWaVUIw9ct_r9a7vw   \n",
       "11960  zecH0ht0mtVirPJHDDdcJA  xRZ2DuebuqVYTmvdaFEzug  HhLVQg2DAmMll14mNDB4dg   \n",
       "11961  nRqVXsJpchoC7qD3kLnEbw  ZojoTvsjpxwf5DMMqFSZCg  GC9kPgUxDW49alvxL4CtvQ   \n",
       "\n",
       "       stars  useful  funny  cool  \\\n",
       "0        1.0       6      1     0   \n",
       "1        5.0       0      0     0   \n",
       "2        5.0       3      0     0   \n",
       "3        5.0       0      0     0   \n",
       "4        1.0       7      0     0   \n",
       "...      ...     ...    ...   ...   \n",
       "11957    5.0       0      0     0   \n",
       "11958    5.0       1      0     0   \n",
       "11959    1.0       4      0     0   \n",
       "11960    4.0       1      0     0   \n",
       "11961    5.0       0      0     0   \n",
       "\n",
       "                                                    text                 date  \n",
       "0      Total bill for this horrible service? Over $8G...  2013-05-07 04:34:36  \n",
       "1      I *adore* Travis at the Hard Rock's new Kelly ...  2017-01-14 21:30:33  \n",
       "2      I have to say that this office really has it t...  2016-11-09 20:09:03  \n",
       "3      Went in for a lunch. Steak sandwich was delici...  2018-01-09 20:56:38  \n",
       "4      Today was my second out of three sessions I ha...  2018-01-30 23:07:38  \n",
       "...                                                  ...                  ...  \n",
       "11957  Saw this place on yelp with decent reviews.  I...  2018-08-05 01:30:06  \n",
       "11958  Alexis is a true professional.  She has a deep...  2014-10-11 19:39:56  \n",
       "11959  My car was picked up from my home in Houston o...  2012-06-26 17:53:12  \n",
       "11960  While my first experience was great, this one ...  2017-04-08 01:00:39  \n",
       "11961  Wonderful bakery with lovely desserts and smal...  2017-04-19 17:25:57  \n",
       "\n",
       "[11962 rows x 9 columns]"
      ]
     },
     "execution_count": 36,
     "metadata": {},
     "output_type": "execute_result"
    }
   ],
   "source": [
    "# read the first 10,000 lines of the reviews file (9,293,084 bytes) and load into dataframe\n",
    "reviews_df = load_json_df('data/yelp/v6/yelp_dataset_challenge_academic_dataset/yelp_academic_dataset_review.json', 9293084)\n",
    "reviews_df"
   ]
  },
  {
   "cell_type": "code",
   "execution_count": 51,
   "metadata": {},
   "outputs": [
    {
     "data": {
      "text/plain": [
       "0.1     3.0\n",
       "0.2     3.0\n",
       "0.3     4.0\n",
       "0.4     5.0\n",
       "0.5     6.0\n",
       "0.6     8.0\n",
       "0.7    13.0\n",
       "0.8    24.0\n",
       "0.9    56.0\n",
       "Name: review_count, dtype: float64"
      ]
     },
     "execution_count": 51,
     "metadata": {},
     "output_type": "execute_result"
    }
   ],
   "source": [
    "deciles = biz_df['review_count'].quantile([.1, .2, .3, .4, .5, .6, .7, .8, .9])\n",
    "deciles"
   ]
  },
  {
   "cell_type": "code",
   "execution_count": 53,
   "metadata": {},
   "outputs": [
    {
     "data": {
      "image/png": "[encoded data removed]",
      "text/plain": [
       "<Figure size 432x288 with 1 Axes>"
      ]
     },
     "metadata": {},
     "output_type": "display_data"
    }
   ],
   "source": []
  },
  {
   "cell_type": "code",
   "execution_count": null,
   "metadata": {},
   "outputs": [],
   "source": []
  }
 ],
 "metadata": {
  "kernelspec": {
   "display_name": "Python 3",
   "language": "python",
   "name": "python3"
  },
  "language_info": {
   "codemirror_mode": {
    "name": "ipython",
    "version": 3
   },
   "file_extension": ".py",
   "mimetype": "text/x-python",
   "name": "python",
   "nbconvert_exporter": "python",
   "pygments_lexer": "ipython3",
   "version": "3.7.3"
  }
 },
 "nbformat": 4,
 "nbformat_minor": 1
}
